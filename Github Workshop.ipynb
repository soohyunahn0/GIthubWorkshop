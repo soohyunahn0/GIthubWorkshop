{
 "cells": [
  {
   "cell_type": "code",
   "execution_count": null,
   "metadata": {},
   "outputs": [],
   "source": []
  },
  {
   "cell_type": "markdown",
   "metadata": {},
   "source": [
    "# Github SPS Workshop\n",
    "\n",
    "## Useful links (Will talk more about when mention)\n",
    "- Git GUI [Github Desktop Installation](https://desktop.github.com/download/)\n",
    "    - Windows Git [install link](https://git-scm.com/downloads/win)\n",
    "    - MacOS Git installation guide\n",
    "        1. Hit Command+Space to open your searchbar (or just open normally)\n",
    "        2. In your terminal, type `git --version`. \n",
    "        3. Accept the install\n",
    "- IDE: [Visual Studio Code Download](https://code.visualstudio.com/download)\n",
    "    - Python Extension for [VS Code](https://marketplace.visualstudio.com/items?itemName=ms-python.python)\n",
    "    - Jupyter Extension for [VS Code](https://marketplace.visualstudio.com/items?itemName=ms-toolsai.jupyter)\n",
    "    \n",
    "    \n"
   ]
  },
  {
   "cell_type": "markdown",
   "metadata": {},
   "source": [
    "# First Commit\n",
    "A git repository has already been made for everyone here to try and access. We're going to try and clone it."
   ]
  },
  {
   "cell_type": "code",
   "execution_count": null,
   "metadata": {},
   "outputs": [],
   "source": [
    "print(\"hello\")\n",
    "for i in \"what\":\n",
    "    print(i)"
   ]
  },
  {
   "cell_type": "markdown",
   "metadata": {},
   "source": [
    "# Extra Links\n",
    "- [Github Student Pack](https://education.github.com/pack)"
   ]
  }
 ],
 "metadata": {
  "language_info": {
   "name": "python"
  }
 },
 "nbformat": 4,
 "nbformat_minor": 2
}
